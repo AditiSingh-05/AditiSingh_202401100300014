{
  "nbformat": 4,
  "nbformat_minor": 0,
  "metadata": {
    "colab": {
      "provenance": []
    },
    "kernelspec": {
      "name": "python3",
      "display_name": "Python 3"
    },
    "language_info": {
      "name": "python"
    }
  },
  "cells": [
    {
      "cell_type": "code",
      "execution_count": 14,
      "metadata": {
        "colab": {
          "base_uri": "https://localhost:8080/",
          "height": 985
        },
        "id": "xcBlFuqJgP4s",
        "outputId": "ea5a3591-9b08-4451-c1ac-8711a1b2b9ff"
      },
      "outputs": [
        {
          "output_type": "stream",
          "name": "stdout",
          "text": [
            "Choices\n",
            "1. Rock\n",
            "2. Paper\n",
            "3. Scisor\n",
            "Enter choice : 1\n",
            "AI choice :  rock\n",
            "Draw\n",
            "Enter 0 to Exit\n",
            "Enter 1 to Play Again\n",
            "Enter choice : 1\n",
            "Choices\n",
            "1. Rock\n",
            "2. Paper\n",
            "3. Scisor\n",
            "Enter choice : 2\n",
            "AI choice :  scissor\n",
            "You Lose\n",
            "Enter 0 to Exit\n",
            "Enter 1 to Play Again\n",
            "Enter choice : 1\n",
            "Choices\n",
            "1. Rock\n",
            "2. Paper\n",
            "3. Scisor\n",
            "Enter choice : 3\n",
            "AI choice :  rock\n",
            "You Lose\n",
            "Enter 0 to Exit\n",
            "Enter 1 to Play Again\n",
            "Enter choice : 0\n",
            "Your Score is :  0\n",
            "AI Score is :  2\n"
          ]
        },
        {
          "output_type": "display_data",
          "data": {
            "text/plain": [
              "<Figure size 640x480 with 1 Axes>"
            ],
            "image/png": "[encoded data removed]"
          },
          "metadata": {}
        }
      ],
      "source": [
        "import random\n",
        "import matplotlib.pyplot as plt\n",
        "\n",
        "choices = [\"rock\",\"paper\",\"scissor\"]\n",
        "score = 0\n",
        "negative = 0\n",
        "while True:\n",
        "  print(\"Choices\")\n",
        "  print(\"1. Rock\")\n",
        "  print(\"2. Paper\")\n",
        "  print(\"3. Scisor\")\n",
        "  user_input = int(input(\"Enter choice : \"))\n",
        "\n",
        "\n",
        "\n",
        "\n",
        "  ai_input = random.choice(choices)\n",
        "  print(\"AI choice : \",ai_input)\n",
        "\n",
        "\n",
        "  if user_input == 1:   #rock\n",
        "    if ai_input == \"scissor\":\n",
        "      print(\"You Win\")\n",
        "      score += 1\n",
        "    elif ai_input == \"paper\":\n",
        "      print(\"You Lose\")\n",
        "      negative += 1\n",
        "    elif ai_input == \"rock\":\n",
        "      print(\"Draw\")\n",
        "  elif user_input == 2:  #paper\n",
        "    if ai_input == \"scissor\":\n",
        "      print(\"You Lose\")\n",
        "      negative += 1\n",
        "    elif ai_input == \"paper\":\n",
        "      print(\"Draw\")\n",
        "    elif ai_input == \"rock\":\n",
        "      score +=1\n",
        "      print(\"You Win\")\n",
        "  elif user_input == 3:\n",
        "    if ai_input == \"scissor\":\n",
        "      print(\"Draw\")\n",
        "    elif ai_input == \"paper\":\n",
        "      print(\"You Win\")\n",
        "      score += 1\n",
        "    elif ai_input == \"rock\":\n",
        "      print(\"You Lose\")\n",
        "      negative +=1\n",
        "\n",
        "\n",
        "  print(\"Enter 0 to Exit\")\n",
        "  print(\"Enter 1 to Play Again\")\n",
        "  play_again = int(input(\"Enter choice : \"))\n",
        "  if play_again == 0:\n",
        "    break\n",
        "print(\"Your Score is : \",score)\n",
        "print(\"AI Score is : \",negative)\n",
        "\n",
        "plt.bar([\"Wins\", \"Losses\"], [score, negative], color=['green', 'red'])\n",
        "plt.show()\n",
        "\n",
        "\n",
        "\n",
        "\n",
        "\n",
        "\n",
        "\n"
      ]
    },
    {
      "cell_type": "code",
      "source": [],
      "metadata": {
        "colab": {
          "base_uri": "https://localhost:8080/",
          "height": 176
        },
        "id": "niriwOsxmbHu",
        "outputId": "a6f7355d-7bfa-4058-9ef7-2a192181059c"
      },
      "execution_count": 2,
      "outputs": [
        {
          "output_type": "error",
          "ename": "NameError",
          "evalue": "name 'score' is not defined",
          "traceback": [
            "\u001b[0;31m---------------------------------------------------------------------------\u001b[0m",
            "\u001b[0;31mNameError\u001b[0m                                 Traceback (most recent call last)",
            "\u001b[0;32m<ipython-input-2-fb8a8ef3f893>\u001b[0m in \u001b[0;36m<cell line: 0>\u001b[0;34m()\u001b[0m\n\u001b[1;32m      1\u001b[0m \u001b[0;32mimport\u001b[0m \u001b[0mmatplotlib\u001b[0m\u001b[0;34m.\u001b[0m\u001b[0mpyplot\u001b[0m \u001b[0;32mas\u001b[0m \u001b[0mplt\u001b[0m\u001b[0;34m\u001b[0m\u001b[0;34m\u001b[0m\u001b[0m\n\u001b[0;32m----> 2\u001b[0;31m \u001b[0mplt\u001b[0m\u001b[0;34m.\u001b[0m\u001b[0mbar\u001b[0m\u001b[0;34m(\u001b[0m\u001b[0mscore\u001b[0m\u001b[0;34m,\u001b[0m\u001b[0mnegative\u001b[0m\u001b[0;34m)\u001b[0m\u001b[0;34m\u001b[0m\u001b[0;34m\u001b[0m\u001b[0m\n\u001b[0m\u001b[1;32m      3\u001b[0m \u001b[0mplt\u001b[0m\u001b[0;34m.\u001b[0m\u001b[0mshow\u001b[0m\u001b[0;34m(\u001b[0m\u001b[0;34m)\u001b[0m\u001b[0;34m\u001b[0m\u001b[0;34m\u001b[0m\u001b[0m\n",
            "\u001b[0;31mNameError\u001b[0m: name 'score' is not defined"
          ]
        }
      ]
    }
  ]
}